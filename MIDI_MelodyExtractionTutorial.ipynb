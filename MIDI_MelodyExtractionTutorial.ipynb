{
 "cells": [
  {
   "cell_type": "markdown",
   "metadata": {},
   "source": [
    "## Extracting melodic lines from MIDI files\n",
    "\n",
    "This script assumes the melody is contained in the first channel of the first track of the MIDI file. \n",
    "\n",
    "Go to the desired section to converting polyphonic midi music to single melody MIDI. \n",
    "Section 1: for single MIDI file\n",
    "Section 2: for MIDI file folder\n",
    "\n",
    "#### Current melody extraction criterion: \n",
    "When two notes happen at the same time, only the top one will remain.\n",
    "\n",
    "It works well with **quantized** midi. "
   ]
  },
  {
   "cell_type": "code",
   "execution_count": 4,
   "metadata": {},
   "outputs": [],
   "source": [
    "import numpy as np\n",
    "import mido\n",
    "import os\n",
    "import shutil\n",
    "from midi_melody_extractor import midi_file_melody_only"
   ]
  },
  {
   "cell_type": "markdown",
   "metadata": {
    "pycharm": {
     "name": "#%%\n"
    }
   },
   "source": [
    "### Section 1: MIDI file -> MIDI file (melody only) \n",
    "\n",
    "output file name would be 'melody_only_'+ orginal file name"
   ]
  },
  {
   "cell_type": "code",
   "execution_count": 2,
   "metadata": {
    "pycharm": {
     "name": "#%%\n"
    }
   },
   "outputs": [],
   "source": [
    "def process(input_file_path,output_path):\n",
    "    result = midi_file_melody_only(input_file_path)\n",
    "    input_name = result.filename\n",
    "    output_name = 'melody_only_'+ input_name\n",
    "    result.save(output_path + output_name)"
   ]
  },
  {
   "cell_type": "code",
   "execution_count": 3,
   "metadata": {},
   "outputs": [
    {
     "ename": "FileNotFoundError",
     "evalue": "[Errno 2] No such file or directory: 'haydn_no34_1.mid'",
     "output_type": "error",
     "traceback": [
      "\u001B[0;31m---------------------------------------------------------------------------\u001B[0m",
      "\u001B[0;31mFileNotFoundError\u001B[0m                         Traceback (most recent call last)",
      "\u001B[0;32m<ipython-input-3-a2900a36fa2d>\u001B[0m in \u001B[0;36m<module>\u001B[0;34m\u001B[0m\n\u001B[1;32m      3\u001B[0m \u001B[0moutput_path\u001B[0m \u001B[0;34m=\u001B[0m \u001B[0;34m'./'\u001B[0m\u001B[0;34m\u001B[0m\u001B[0;34m\u001B[0m\u001B[0m\n\u001B[1;32m      4\u001B[0m \u001B[0;31m##\u001B[0m\u001B[0;34m\u001B[0m\u001B[0;34m\u001B[0m\u001B[0;34m\u001B[0m\u001B[0m\n\u001B[0;32m----> 5\u001B[0;31m \u001B[0mprocess\u001B[0m\u001B[0;34m(\u001B[0m\u001B[0minput_file_path\u001B[0m\u001B[0;34m,\u001B[0m\u001B[0moutput_path\u001B[0m\u001B[0;34m)\u001B[0m\u001B[0;34m\u001B[0m\u001B[0;34m\u001B[0m\u001B[0m\n\u001B[0m\u001B[1;32m      6\u001B[0m \u001B[0;34m\u001B[0m\u001B[0m\n",
      "\u001B[0;32m<ipython-input-2-497bab28eec1>\u001B[0m in \u001B[0;36mprocess\u001B[0;34m(input_file_path, output_path)\u001B[0m\n\u001B[1;32m      1\u001B[0m \u001B[0;32mdef\u001B[0m \u001B[0mprocess\u001B[0m\u001B[0;34m(\u001B[0m\u001B[0minput_file_path\u001B[0m\u001B[0;34m,\u001B[0m\u001B[0moutput_path\u001B[0m\u001B[0;34m)\u001B[0m\u001B[0;34m:\u001B[0m\u001B[0;34m\u001B[0m\u001B[0;34m\u001B[0m\u001B[0m\n\u001B[0;32m----> 2\u001B[0;31m     \u001B[0mresult\u001B[0m \u001B[0;34m=\u001B[0m \u001B[0mmidi_file_melody_only\u001B[0m\u001B[0;34m(\u001B[0m\u001B[0minput_file_path\u001B[0m\u001B[0;34m)\u001B[0m\u001B[0;34m\u001B[0m\u001B[0;34m\u001B[0m\u001B[0m\n\u001B[0m\u001B[1;32m      3\u001B[0m     \u001B[0minput_name\u001B[0m \u001B[0;34m=\u001B[0m \u001B[0mresult\u001B[0m\u001B[0;34m.\u001B[0m\u001B[0mfilename\u001B[0m\u001B[0;34m\u001B[0m\u001B[0;34m\u001B[0m\u001B[0m\n\u001B[1;32m      4\u001B[0m     \u001B[0moutput_name\u001B[0m \u001B[0;34m=\u001B[0m \u001B[0;34m'melody_only_'\u001B[0m\u001B[0;34m+\u001B[0m \u001B[0minput_name\u001B[0m\u001B[0;34m\u001B[0m\u001B[0;34m\u001B[0m\u001B[0m\n\u001B[1;32m      5\u001B[0m     \u001B[0mresult\u001B[0m\u001B[0;34m.\u001B[0m\u001B[0msave\u001B[0m\u001B[0;34m(\u001B[0m\u001B[0moutput_path\u001B[0m \u001B[0;34m+\u001B[0m \u001B[0moutput_name\u001B[0m\u001B[0;34m)\u001B[0m\u001B[0;34m\u001B[0m\u001B[0;34m\u001B[0m\u001B[0m\n",
      "\u001B[0;32m~/Desktop/Codes/IDyOM_Python_Interface/midi_melody_extractor.py\u001B[0m in \u001B[0;36mmidi_file_melody_only\u001B[0;34m(midi_file_path)\u001B[0m\n\u001B[1;32m     70\u001B[0m \u001B[0;34m\u001B[0m\u001B[0m\n\u001B[1;32m     71\u001B[0m \u001B[0;32mdef\u001B[0m \u001B[0mmidi_file_melody_only\u001B[0m\u001B[0;34m(\u001B[0m\u001B[0mmidi_file_path\u001B[0m\u001B[0;34m)\u001B[0m\u001B[0;34m:\u001B[0m\u001B[0;34m\u001B[0m\u001B[0;34m\u001B[0m\u001B[0m\n\u001B[0;32m---> 72\u001B[0;31m     \u001B[0mmidi_file\u001B[0m \u001B[0;34m=\u001B[0m \u001B[0mmido\u001B[0m\u001B[0;34m.\u001B[0m\u001B[0mMidiFile\u001B[0m\u001B[0;34m(\u001B[0m\u001B[0mmidi_file_path\u001B[0m\u001B[0;34m,\u001B[0m \u001B[0mclip\u001B[0m\u001B[0;34m=\u001B[0m\u001B[0;32mTrue\u001B[0m\u001B[0;34m)\u001B[0m\u001B[0;34m\u001B[0m\u001B[0;34m\u001B[0m\u001B[0m\n\u001B[0m\u001B[1;32m     73\u001B[0m     \u001B[0mtrack\u001B[0m \u001B[0;34m=\u001B[0m \u001B[0mmidi_file\u001B[0m\u001B[0;34m.\u001B[0m\u001B[0mtracks\u001B[0m\u001B[0;34m[\u001B[0m\u001B[0;36m0\u001B[0m\u001B[0;34m]\u001B[0m\u001B[0;34m\u001B[0m\u001B[0;34m\u001B[0m\u001B[0m\n\u001B[1;32m     74\u001B[0m     \u001B[0mresulted_track\u001B[0m \u001B[0;34m=\u001B[0m \u001B[0msingle_track_upper_melody\u001B[0m\u001B[0;34m(\u001B[0m\u001B[0mtrack\u001B[0m\u001B[0;34m)\u001B[0m\u001B[0;34m\u001B[0m\u001B[0;34m\u001B[0m\u001B[0m\n",
      "\u001B[0;32m~/Desktop/Codes/exercises/venv/lib/python3.9/site-packages/mido/midifiles/midifiles.py\u001B[0m in \u001B[0;36m__init__\u001B[0;34m(self, filename, file, type, ticks_per_beat, charset, debug, clip)\u001B[0m\n\u001B[1;32m    313\u001B[0m             \u001B[0mself\u001B[0m\u001B[0;34m.\u001B[0m\u001B[0m_load\u001B[0m\u001B[0;34m(\u001B[0m\u001B[0mfile\u001B[0m\u001B[0;34m)\u001B[0m\u001B[0;34m\u001B[0m\u001B[0;34m\u001B[0m\u001B[0m\n\u001B[1;32m    314\u001B[0m         \u001B[0;32melif\u001B[0m \u001B[0mself\u001B[0m\u001B[0;34m.\u001B[0m\u001B[0mfilename\u001B[0m \u001B[0;32mis\u001B[0m \u001B[0;32mnot\u001B[0m \u001B[0;32mNone\u001B[0m\u001B[0;34m:\u001B[0m\u001B[0;34m\u001B[0m\u001B[0;34m\u001B[0m\u001B[0m\n\u001B[0;32m--> 315\u001B[0;31m             \u001B[0;32mwith\u001B[0m \u001B[0mio\u001B[0m\u001B[0;34m.\u001B[0m\u001B[0mopen\u001B[0m\u001B[0;34m(\u001B[0m\u001B[0mfilename\u001B[0m\u001B[0;34m,\u001B[0m \u001B[0;34m'rb'\u001B[0m\u001B[0;34m)\u001B[0m \u001B[0;32mas\u001B[0m \u001B[0mfile\u001B[0m\u001B[0;34m:\u001B[0m\u001B[0;34m\u001B[0m\u001B[0;34m\u001B[0m\u001B[0m\n\u001B[0m\u001B[1;32m    316\u001B[0m                 \u001B[0mself\u001B[0m\u001B[0;34m.\u001B[0m\u001B[0m_load\u001B[0m\u001B[0;34m(\u001B[0m\u001B[0mfile\u001B[0m\u001B[0;34m)\u001B[0m\u001B[0;34m\u001B[0m\u001B[0;34m\u001B[0m\u001B[0m\n\u001B[1;32m    317\u001B[0m \u001B[0;34m\u001B[0m\u001B[0m\n",
      "\u001B[0;31mFileNotFoundError\u001B[0m: [Errno 2] No such file or directory: 'haydn_no34_1.mid'"
     ]
    }
   ],
   "source": [
    "## Specify the input and output paths in this block:\n",
    "input_file_path = 'haydn_no34_1.mid'\n",
    "output_path = './'\n",
    "## \n",
    "process(input_file_path,output_path)"
   ]
  },
  {
   "cell_type": "markdown",
   "metadata": {},
   "source": [
    "### Section 2: Folder of MIDI files -> Folder of MIDI files (melody only) \n",
    "\n",
    "ouput file folder name would be 'melody_only'+ original folder name, which contains all the ouput single-melody MIDI files."
   ]
  },
  {
   "cell_type": "code",
   "execution_count": 5,
   "metadata": {},
   "outputs": [],
   "source": [
    "def find_name(string):\n",
    "    index = string.rfind('/')\n",
    "    return string[index+1:]\n",
    "\n",
    "def batch_process(input_folder_path,output_path):\n",
    "    \n",
    "    output_folder_name = 'melody_only_'+find_name(input_folder_path)\n",
    "    output_folder_path = output_path+output_folder_name\n",
    "\n",
    "\n",
    "    if os.path.exists(output_folder_path+'/'):\n",
    "        shutil.rmtree(output_folder_path+'/')\n",
    "    os.makedirs(output_folder_path+'/')\n",
    "\n",
    "\n",
    "    for files in os.listdir(input_folder_path):\n",
    "\n",
    "        input_file_path = input_folder_path +'/'+ files\n",
    "        input_file_name = find_name(input_file_path)\n",
    "        result = midi_file_melody_only(input_file_path)\n",
    "        result.filename = 'melody_only_'+input_file_name\n",
    "        result.save(output_folder_path+'/'+result.filename)\n"
   ]
  },
  {
   "cell_type": "code",
   "execution_count": 6,
   "metadata": {},
   "outputs": [],
   "source": [
    "## Specify the input and output paths in this block:\n",
    "input_folder_path = 'dataset/MIDI'\n",
    "output_path = './'\n",
    "##\n",
    "batch_process(input_folder_path,output_path)"
   ]
  },
  {
   "cell_type": "code",
   "execution_count": null,
   "metadata": {},
   "outputs": [],
   "source": []
  }
 ],
 "metadata": {
  "kernelspec": {
   "display_name": "Python 3",
   "language": "python",
   "name": "python3"
  },
  "language_info": {
   "codemirror_mode": {
    "name": "ipython",
    "version": 3
   },
   "file_extension": ".py",
   "mimetype": "text/x-python",
   "name": "python",
   "nbconvert_exporter": "python",
   "pygments_lexer": "ipython3",
   "version": "3.9.0"
  }
 },
 "nbformat": 4,
 "nbformat_minor": 1
}